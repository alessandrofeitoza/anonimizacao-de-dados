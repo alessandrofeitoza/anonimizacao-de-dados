{
 "cells": [
  {
   "cell_type": "markdown",
   "id": "7e9d75e6",
   "metadata": {},
   "source": [
    "<h2>Trabalho 02 - Privacidade diferencial</h2>\n",
    "<p>\n",
    "    <strong>Professor:</strong> Javam Machado<br>\n",
    "    <strong>Disciplina:</strong> Privacidade de Dados<br>\n",
    "    <strong>Aluno:</strong> Fco Alessandro Feitoza da Silva - 543032\n",
    "</p>\n",
    "<hr>"
   ]
  },
  {
   "cell_type": "code",
   "execution_count": null,
   "id": "dee8cbcb",
   "metadata": {},
   "outputs": [],
   "source": [
    "import matplotlib.pyplot as matplot\n",
    "\n",
    "import numpy as np\n",
    "import pandas as pd\n",
    "\n",
    "from datetime import datetime\n",
    "\n",
    "import warnings\n",
    "warnings.filterwarnings('ignore')"
   ]
  },
  {
   "cell_type": "code",
   "execution_count": null,
   "id": "d33b33a0",
   "metadata": {},
   "outputs": [],
   "source": []
  },
  {
   "cell_type": "code",
   "execution_count": null,
   "id": "c955b57b",
   "metadata": {},
   "outputs": [
    {
     "name": "stdout",
     "output_type": "stream",
     "text": [
      "Total de registros: 879543\n"
     ]
    },
    {
     "data": {
      "text/html": [
       "<div>\n",
       "<style scoped>\n",
       "    .dataframe tbody tr th:only-of-type {\n",
       "        vertical-align: middle;\n",
       "    }\n",
       "\n",
       "    .dataframe tbody tr th {\n",
       "        vertical-align: top;\n",
       "    }\n",
       "\n",
       "    .dataframe thead th {\n",
       "        text-align: right;\n",
       "    }\n",
       "</style>\n",
       "<table border=\"1\" class=\"dataframe\">\n",
       "  <thead>\n",
       "    <tr style=\"text-align: right;\">\n",
       "      <th></th>\n",
       "      <th>Identificador</th>\n",
       "      <th>CodigoMunicipio</th>\n",
       "      <th>Municipio</th>\n",
       "      <th>Estado</th>\n",
       "      <th>Genero</th>\n",
       "      <th>Nascimento</th>\n",
       "      <th>ResultadoExame</th>\n",
       "    </tr>\n",
       "  </thead>\n",
       "  <tbody>\n",
       "    <tr>\n",
       "      <th>0</th>\n",
       "      <td>c3ba634113e4b5eb0e3eaae93b09759b</td>\n",
       "      <td>231290.0</td>\n",
       "      <td>SOBRAL</td>\n",
       "      <td>CE</td>\n",
       "      <td>MASCULINO</td>\n",
       "      <td>2003-08-14</td>\n",
       "      <td>Negativo</td>\n",
       "    </tr>\n",
       "    <tr>\n",
       "      <th>1</th>\n",
       "      <td>ac84809bfc89b992a0a0221e50b135c0</td>\n",
       "      <td>230960.0</td>\n",
       "      <td>PACAJUS</td>\n",
       "      <td>CE</td>\n",
       "      <td>MASCULINO</td>\n",
       "      <td>1983-11-07</td>\n",
       "      <td>Negativo</td>\n",
       "    </tr>\n",
       "    <tr>\n",
       "      <th>2</th>\n",
       "      <td>28ccfaa0c53b792cd1ffa0b7e535f617</td>\n",
       "      <td>230523.0</td>\n",
       "      <td>HORIZONTE</td>\n",
       "      <td>CE</td>\n",
       "      <td>FEMININO</td>\n",
       "      <td>1982-01-14</td>\n",
       "      <td>Negativo</td>\n",
       "    </tr>\n",
       "    <tr>\n",
       "      <th>3</th>\n",
       "      <td>9683fc5fd2c0f7b72fa92ffd259d738a</td>\n",
       "      <td>230440.0</td>\n",
       "      <td>FORTALEZA</td>\n",
       "      <td>CE</td>\n",
       "      <td>MASCULINO</td>\n",
       "      <td>1992-03-12</td>\n",
       "      <td>Negativo</td>\n",
       "    </tr>\n",
       "    <tr>\n",
       "      <th>4</th>\n",
       "      <td>e257ccdc48289f02e047cbf046251319</td>\n",
       "      <td>230370.0</td>\n",
       "      <td>CAUCAIA</td>\n",
       "      <td>CE</td>\n",
       "      <td>MASCULINO</td>\n",
       "      <td>1970-03-06</td>\n",
       "      <td>Negativo</td>\n",
       "    </tr>\n",
       "  </tbody>\n",
       "</table>\n",
       "</div>"
      ],
      "text/plain": [
       "                      Identificador  CodigoMunicipio  Municipio Estado  \\\n",
       "0  c3ba634113e4b5eb0e3eaae93b09759b         231290.0     SOBRAL     CE   \n",
       "1  ac84809bfc89b992a0a0221e50b135c0         230960.0    PACAJUS     CE   \n",
       "2  28ccfaa0c53b792cd1ffa0b7e535f617         230523.0  HORIZONTE     CE   \n",
       "3  9683fc5fd2c0f7b72fa92ffd259d738a         230440.0  FORTALEZA     CE   \n",
       "4  e257ccdc48289f02e047cbf046251319         230370.0    CAUCAIA     CE   \n",
       "\n",
       "      Genero  Nascimento ResultadoExame  \n",
       "0  MASCULINO  2003-08-14       Negativo  \n",
       "1  MASCULINO  1983-11-07       Negativo  \n",
       "2   FEMININO  1982-01-14       Negativo  \n",
       "3  MASCULINO  1992-03-12       Negativo  \n",
       "4  MASCULINO  1970-03-06       Negativo  "
      ]
     },
     "execution_count": 68,
     "metadata": {},
     "output_type": "execute_result"
    }
   ],
   "source": [
    "# lendo o arquivo csv\n",
    "dataset = pd.read_csv('covid.csv', sep=';').drop(['Unnamed: 0'], axis=1)\n",
    "\n",
    "# exibindo alguns dados do dataset\n",
    "dataset.head()"
   ]
  },
  {
   "cell_type": "markdown",
   "id": "b105c720",
   "metadata": {},
   "source": [
    "<h3>1.1 Mecanismo de Laplace</h3>"
   ]
  },
  {
   "cell_type": "markdown",
   "id": "2a5efd1f",
   "metadata": {},
   "source": [
    "Calcule a idade dos indivı́duos representados em cada registro a partir da data de nascimento. Considere apenas datas de nascimento referentes aos séculos XX e XXI."
   ]
  },
  {
   "cell_type": "markdown",
   "id": "d2ed6ca6",
   "metadata": {},
   "source": [
    "As consultas deverão usar os seguintes valores de budget: ε = 0.1, ε = 0.5, ε = 1.0 e ε = 10."
   ]
  },
  {
   "cell_type": "code",
   "execution_count": 73,
   "id": "a0624085",
   "metadata": {},
   "outputs": [],
   "source": [
    "list_epsilon = [0.1, 0.5, 1.0, 10]\n",
    "sensibility = 1"
   ]
  },
  {
   "cell_type": "markdown",
   "id": "2d09ab22",
   "metadata": {},
   "source": [
    "<h4>Q1: Média da idade dos indivı́duos representados no dataset</h4>"
   ]
  },
  {
   "cell_type": "code",
   "execution_count": 74,
   "id": "0c30c85e",
   "metadata": {},
   "outputs": [
    {
     "data": {
      "text/html": [
       "<div>\n",
       "<style scoped>\n",
       "    .dataframe tbody tr th:only-of-type {\n",
       "        vertical-align: middle;\n",
       "    }\n",
       "\n",
       "    .dataframe tbody tr th {\n",
       "        vertical-align: top;\n",
       "    }\n",
       "\n",
       "    .dataframe thead th {\n",
       "        text-align: right;\n",
       "    }\n",
       "</style>\n",
       "<table border=\"1\" class=\"dataframe\">\n",
       "  <thead>\n",
       "    <tr style=\"text-align: right;\">\n",
       "      <th></th>\n",
       "      <th>Identificador</th>\n",
       "      <th>CodigoMunicipio</th>\n",
       "      <th>Municipio</th>\n",
       "      <th>Estado</th>\n",
       "      <th>Genero</th>\n",
       "      <th>Nascimento</th>\n",
       "      <th>ResultadoExame</th>\n",
       "      <th>Idade</th>\n",
       "    </tr>\n",
       "  </thead>\n",
       "  <tbody>\n",
       "    <tr>\n",
       "      <th>0</th>\n",
       "      <td>c3ba634113e4b5eb0e3eaae93b09759b</td>\n",
       "      <td>231290.0</td>\n",
       "      <td>SOBRAL</td>\n",
       "      <td>CE</td>\n",
       "      <td>MASCULINO</td>\n",
       "      <td>2003-08-14</td>\n",
       "      <td>Negativo</td>\n",
       "      <td>19</td>\n",
       "    </tr>\n",
       "    <tr>\n",
       "      <th>1</th>\n",
       "      <td>ac84809bfc89b992a0a0221e50b135c0</td>\n",
       "      <td>230960.0</td>\n",
       "      <td>PACAJUS</td>\n",
       "      <td>CE</td>\n",
       "      <td>MASCULINO</td>\n",
       "      <td>1983-11-07</td>\n",
       "      <td>Negativo</td>\n",
       "      <td>39</td>\n",
       "    </tr>\n",
       "    <tr>\n",
       "      <th>2</th>\n",
       "      <td>28ccfaa0c53b792cd1ffa0b7e535f617</td>\n",
       "      <td>230523.0</td>\n",
       "      <td>HORIZONTE</td>\n",
       "      <td>CE</td>\n",
       "      <td>FEMININO</td>\n",
       "      <td>1982-01-14</td>\n",
       "      <td>Negativo</td>\n",
       "      <td>40</td>\n",
       "    </tr>\n",
       "    <tr>\n",
       "      <th>3</th>\n",
       "      <td>9683fc5fd2c0f7b72fa92ffd259d738a</td>\n",
       "      <td>230440.0</td>\n",
       "      <td>FORTALEZA</td>\n",
       "      <td>CE</td>\n",
       "      <td>MASCULINO</td>\n",
       "      <td>1992-03-12</td>\n",
       "      <td>Negativo</td>\n",
       "      <td>30</td>\n",
       "    </tr>\n",
       "    <tr>\n",
       "      <th>4</th>\n",
       "      <td>e257ccdc48289f02e047cbf046251319</td>\n",
       "      <td>230370.0</td>\n",
       "      <td>CAUCAIA</td>\n",
       "      <td>CE</td>\n",
       "      <td>MASCULINO</td>\n",
       "      <td>1970-03-06</td>\n",
       "      <td>Negativo</td>\n",
       "      <td>52</td>\n",
       "    </tr>\n",
       "  </tbody>\n",
       "</table>\n",
       "</div>"
      ],
      "text/plain": [
       "                      Identificador  CodigoMunicipio  Municipio Estado  \\\n",
       "0  c3ba634113e4b5eb0e3eaae93b09759b         231290.0     SOBRAL     CE   \n",
       "1  ac84809bfc89b992a0a0221e50b135c0         230960.0    PACAJUS     CE   \n",
       "2  28ccfaa0c53b792cd1ffa0b7e535f617         230523.0  HORIZONTE     CE   \n",
       "3  9683fc5fd2c0f7b72fa92ffd259d738a         230440.0  FORTALEZA     CE   \n",
       "4  e257ccdc48289f02e047cbf046251319         230370.0    CAUCAIA     CE   \n",
       "\n",
       "      Genero Nascimento ResultadoExame  Idade  \n",
       "0  MASCULINO 2003-08-14       Negativo     19  \n",
       "1  MASCULINO 1983-11-07       Negativo     39  \n",
       "2   FEMININO 1982-01-14       Negativo     40  \n",
       "3  MASCULINO 1992-03-12       Negativo     30  \n",
       "4  MASCULINO 1970-03-06       Negativo     52  "
      ]
     },
     "execution_count": 74,
     "metadata": {},
     "output_type": "execute_result"
    }
   ],
   "source": [
    "# casting de data de nascimento pro tipo DateTime\n",
    "dataset['Nascimento'] = pd.to_datetime(dados['Nascimento'], format='%Y-%m-%d', errors='coerce')\n",
    "\n",
    "# Isolando os nascimento entre 1900 e 20xx\n",
    "datasDeNascimento = dataset.loc[dataset['Nascimento'].dt.year > 1901]\n",
    "\n",
    "# Calculando a idade aproximada (estou levando em consideração apenas o ano, pra uma idade mais assertiva deveria usar o mes e dia tbm)\n",
    "datasDeNascimento['Idade'] = (datetime.now().year - datasDeNascimento['Nascimento'].dt.year)\n",
    "datasDeNascimento.head()"
   ]
  },
  {
   "cell_type": "code",
   "execution_count": 87,
   "id": "0adabb64",
   "metadata": {},
   "outputs": [
    {
     "name": "stdout",
     "output_type": "stream",
     "text": [
      "Resultado real: 41.68716116649687\n",
      "Resultado Laplace, e = 0.1 : 35.53\n",
      "Resultado Laplace, e = 0.5 : 40.01\n",
      "Resultado Laplace, e = 1.0 : 41.3\n",
      "Resultado Laplace, e = 10 : 41.6\n"
     ]
    }
   ],
   "source": [
    "mediaNascimento = datasDeNascimento['Idade'].mean()\n",
    "print(\"Resultado/mean:\", mediaNascimento)\n",
    "\n",
    "# funcao para mostrar os dados, irei usar nos proximos \"for\"\n",
    "\n",
    "def showMessage(x, y):\n",
    "    print('-------------------------------------------')\n",
    "    print(\"Laplace, e =\", x,\":\", round(y, 2))\n",
    "    print('-------------------------------------------')\n",
    "\n",
    "list_F_x = []\n",
    "for epsilon in list_epsilon:\n",
    "    F_x = mediaNascimento + np.random.laplace(loc=0, scale=sensibility/epsilon)\n",
    "    list_F_x.append(round(F_x, 2))\n",
    "    showMessage(epsilon, F_x)"
   ]
  },
  {
   "cell_type": "code",
   "execution_count": 88,
   "id": "cb98c993",
   "metadata": {},
   "outputs": [
    {
     "data": {
      "image/png": "[encoded data removed]",
      "text/plain": [
       "<Figure size 432x288 with 1 Axes>"
      ]
     },
     "metadata": {
      "needs_background": "light"
     },
     "output_type": "display_data"
    }
   ],
   "source": [
    "# Plotagem do gráfico\n",
    "labels = [f'e = {epsilon}' for epsilon in list_epsilon]\n",
    "media = [round(mediaNascimento, 1) for i in range(4)]\n",
    "\n",
    "x = np.arange(len(labels))\n",
    "width = 0.3\n",
    "fig, ax = matplot.subplots()\n",
    "plot1 = ax.bar(x-width/2, media, width, label='Original', color='#3300ff')\n",
    "plot2 = ax.bar(x+width/2, list_F_x, width, label='Laplace', color='#AABBCC')\n",
    "\n",
    "ax.set_xticks(x, labels)\n",
    "ax.legend(loc=4)\n",
    "matplot.title(\"Média idade\")\n",
    "matplot.show()"
   ]
  },
  {
   "cell_type": "markdown",
   "id": "be72a3a6",
   "metadata": {},
   "source": [
    "<h4>Q2: Número de exames positivos (atributo <i>resultadoFinalExame</i>)</h4>"
   ]
  },
  {
   "cell_type": "code",
   "execution_count": 108,
   "id": "a93bbb9c",
   "metadata": {},
   "outputs": [
    {
     "name": "stdout",
     "output_type": "stream",
     "text": [
      "Resultado real: 265914\n",
      "Resultado Laplace, e = 0.1 : 265910\n",
      "Resultado Laplace, e = 0.5 : 265916\n",
      "Resultado Laplace, e = 1.0 : 265915\n",
      "Resultado Laplace, e = 10 : 265914\n"
     ]
    }
   ],
   "source": [
    "g_x = len(datasDeNascimento.loc[dataset['ResultadoExame'] == 'Positivo'])\n",
    "print(\"Resultado:\", g_x)\n",
    "\n",
    "list_G_x = []\n",
    "for epsilon in list_epsilon:\n",
    "    G_x = g_x + np.random.laplace(loc=0, scale=sensibility/epsilon)\n",
    "    list_G_x.append(round(G_x))\n",
    "    showMessage(epsilon, G_x)"
   ]
  },
  {
   "cell_type": "code",
   "execution_count": 113,
   "id": "68000c85",
   "metadata": {},
   "outputs": [
    {
     "data": {
      "image/png": "[encoded data removed]",
      "text/plain": [
       "<Figure size 432x288 with 1 Axes>"
      ]
     },
     "metadata": {
      "needs_background": "light"
     },
     "output_type": "display_data"
    }
   ],
   "source": [
    "# Gerando o grafico\n",
    "labels = [f'e = {epsilon}' for epsilon in list_epsilon]\n",
    "consulta = [round(g_x) for i in range(4)]\n",
    "\n",
    "x = np.arange(len(labels))\n",
    "width = 0.3\n",
    "fig, ax = matplot.subplots()\n",
    "plot1 = ax.bar(x-width/2, consulta, width, label='Original', color='gray')\n",
    "plot2 = ax.bar(x+width/2, list_G_x, width, label='Laplace', color='magenta')\n",
    "\n",
    "ax.set_xticks(x, labels)\n",
    "ax.legend(loc=4)\n",
    "matplot.title(\"Exames Positivos\")\n",
    "matplot.show()"
   ]
  },
  {
   "cell_type": "markdown",
   "id": "1a4ef9b0",
   "metadata": {},
   "source": [
    "<h4>Q3: Total de exames realizados por municı́pio (atributo <i>municipio-caso</i>)</h4>"
   ]
  },
  {
   "cell_type": "code",
   "execution_count": 117,
   "id": "9394d76e",
   "metadata": {
    "scrolled": true
   },
   "outputs": [
    {
     "data": {
      "text/html": [
       "<div>\n",
       "<style scoped>\n",
       "    .dataframe tbody tr th:only-of-type {\n",
       "        vertical-align: middle;\n",
       "    }\n",
       "\n",
       "    .dataframe tbody tr th {\n",
       "        vertical-align: top;\n",
       "    }\n",
       "\n",
       "    .dataframe thead th {\n",
       "        text-align: right;\n",
       "    }\n",
       "</style>\n",
       "<table border=\"1\" class=\"dataframe\">\n",
       "  <thead>\n",
       "    <tr style=\"text-align: right;\">\n",
       "      <th></th>\n",
       "      <th>identificador</th>\n",
       "      <th>genero</th>\n",
       "      <th>nascimento</th>\n",
       "      <th>idade</th>\n",
       "      <th>resultadoExame</th>\n",
       "      <th>municipio</th>\n",
       "      <th>codigoMunicipio</th>\n",
       "      <th>mesoregiao</th>\n",
       "    </tr>\n",
       "  </thead>\n",
       "  <tbody>\n",
       "    <tr>\n",
       "      <th>0</th>\n",
       "      <td>86343365d3538dad3d93736b78c986ab</td>\n",
       "      <td>MASCULINO</td>\n",
       "      <td>1978-04-20</td>\n",
       "      <td>44</td>\n",
       "      <td>Negativo</td>\n",
       "      <td>ABAIARA</td>\n",
       "      <td>230010</td>\n",
       "      <td>Sul Cearense</td>\n",
       "    </tr>\n",
       "    <tr>\n",
       "      <th>1</th>\n",
       "      <td>a1c274cc7c0bc943e2806148274f196d</td>\n",
       "      <td>MASCULINO</td>\n",
       "      <td>1990-05-20</td>\n",
       "      <td>32</td>\n",
       "      <td>Negativo</td>\n",
       "      <td>ABAIARA</td>\n",
       "      <td>230010</td>\n",
       "      <td>Sul Cearense</td>\n",
       "    </tr>\n",
       "    <tr>\n",
       "      <th>2</th>\n",
       "      <td>7c08d488bb6562bdc29861ede553e6b0</td>\n",
       "      <td>MASCULINO</td>\n",
       "      <td>1997-12-20</td>\n",
       "      <td>24</td>\n",
       "      <td>Positivo</td>\n",
       "      <td>ABAIARA</td>\n",
       "      <td>230010</td>\n",
       "      <td>Sul Cearense</td>\n",
       "    </tr>\n",
       "    <tr>\n",
       "      <th>3</th>\n",
       "      <td>6ce4fe9d51af40f15d20dc37491ee742</td>\n",
       "      <td>FEMININO</td>\n",
       "      <td>1995-02-20</td>\n",
       "      <td>27</td>\n",
       "      <td>Positivo</td>\n",
       "      <td>ABAIARA</td>\n",
       "      <td>230010</td>\n",
       "      <td>Sul Cearense</td>\n",
       "    </tr>\n",
       "    <tr>\n",
       "      <th>4</th>\n",
       "      <td>9276dfcc14fbe679a6ecc093d8e00b71</td>\n",
       "      <td>MASCULINO</td>\n",
       "      <td>1991-07-20</td>\n",
       "      <td>31</td>\n",
       "      <td>Positivo</td>\n",
       "      <td>ABAIARA</td>\n",
       "      <td>230010</td>\n",
       "      <td>Sul Cearense</td>\n",
       "    </tr>\n",
       "  </tbody>\n",
       "</table>\n",
       "</div>"
      ],
      "text/plain": [
       "                      identificador     genero  nascimento  idade  \\\n",
       "0  86343365d3538dad3d93736b78c986ab  MASCULINO  1978-04-20     44   \n",
       "1  a1c274cc7c0bc943e2806148274f196d  MASCULINO  1990-05-20     32   \n",
       "2  7c08d488bb6562bdc29861ede553e6b0  MASCULINO  1997-12-20     24   \n",
       "3  6ce4fe9d51af40f15d20dc37491ee742   FEMININO  1995-02-20     27   \n",
       "4  9276dfcc14fbe679a6ecc093d8e00b71  MASCULINO  1991-07-20     31   \n",
       "\n",
       "  resultadoExame municipio  codigoMunicipio    mesoregiao  \n",
       "0       Negativo   ABAIARA           230010  Sul Cearense  \n",
       "1       Negativo   ABAIARA           230010  Sul Cearense  \n",
       "2       Positivo   ABAIARA           230010  Sul Cearense  \n",
       "3       Positivo   ABAIARA           230010  Sul Cearense  \n",
       "4       Positivo   ABAIARA           230010  Sul Cearense  "
      ]
     },
     "execution_count": 117,
     "metadata": {},
     "output_type": "execute_result"
    }
   ],
   "source": [
    "datasetMeso = pd.read_csv('dadoscovid.csv', sep=',')\n",
    "datasetMeso.head()"
   ]
  },
  {
   "cell_type": "code",
   "execution_count": 120,
   "id": "930a0d6e",
   "metadata": {},
   "outputs": [
    {
     "name": "stdout",
     "output_type": "stream",
     "text": [
      "Resultado real: mesoregiao\n",
      "Centro-Sul Cearense            1871\n",
      "Jaguaribe                      2099\n",
      "Metropolitana de Fortaleza    10626\n",
      "Noroeste Cearense              6054\n",
      "Norte Cearense                 2922\n",
      "Sertões Cearenses              3337\n",
      "Sul Cearense                   4484\n",
      "Name: resultadoExame, dtype: int64\n"
     ]
    }
   ],
   "source": [
    "h_x = datasetMeso.groupby('mesoregiao')['resultadoExame'].count()\n",
    "print(\"Resultado:\", h_x)"
   ]
  },
  {
   "cell_type": "code",
   "execution_count": 128,
   "id": "aa153db0",
   "metadata": {},
   "outputs": [
    {
     "name": "stdout",
     "output_type": "stream",
     "text": [
      "--> Centro-Sul Cearense\n",
      "    - resultado Laplace, e = 0.1 : 1841\n",
      "    - resultado Laplace, e = 0.5 : 1871\n",
      "    - resultado Laplace, e = 1.0 : 1870\n",
      "    - resultado Laplace, e = 10 : 1871\n",
      "--> Jaguaribe\n",
      "    - resultado Laplace, e = 0.1 : 2096\n",
      "    - resultado Laplace, e = 0.5 : 2099\n",
      "    - resultado Laplace, e = 1.0 : 2095\n",
      "    - resultado Laplace, e = 10 : 2099\n",
      "--> Metropolitana de Fortaleza\n",
      "    - resultado Laplace, e = 0.1 : 10629\n",
      "    - resultado Laplace, e = 0.5 : 10633\n",
      "    - resultado Laplace, e = 1.0 : 10627\n",
      "    - resultado Laplace, e = 10 : 10626\n",
      "--> Noroeste Cearense\n",
      "    - resultado Laplace, e = 0.1 : 6044\n",
      "    - resultado Laplace, e = 0.5 : 6059\n",
      "    - resultado Laplace, e = 1.0 : 6054\n",
      "    - resultado Laplace, e = 10 : 6054\n",
      "--> Norte Cearense\n",
      "    - resultado Laplace, e = 0.1 : 2928\n",
      "    - resultado Laplace, e = 0.5 : 2920\n",
      "    - resultado Laplace, e = 1.0 : 2922\n",
      "    - resultado Laplace, e = 10 : 2922\n",
      "--> Sertões Cearenses\n",
      "    - resultado Laplace, e = 0.1 : 3346\n",
      "    - resultado Laplace, e = 0.5 : 3337\n",
      "    - resultado Laplace, e = 1.0 : 3338\n",
      "    - resultado Laplace, e = 10 : 3337\n",
      "--> Sul Cearense\n",
      "    - resultado Laplace, e = 0.1 : 4492\n",
      "    - resultado Laplace, e = 0.5 : 4481\n",
      "    - resultado Laplace, e = 1.0 : 4485\n",
      "    - resultado Laplace, e = 10 : 4484\n"
     ]
    }
   ],
   "source": [
    "mesos = {}\n",
    "for meso, num_exames in zip(h_x.index, h_x.values):\n",
    "    print(\"Região: \", meso)\n",
    "    \n",
    "    list_H_x = []\n",
    "    for epsilon in list_epsilon:\n",
    "        H_x = num_exames + np.random.laplace(loc=0, scale=sensibility/epsilon)\n",
    "        list_H_x.append(round(H_x))\n",
    "        showMessage(epsilon, H_x)\n",
    "    mesos.update({meso: list_H_x})"
   ]
  },
  {
   "cell_type": "code",
   "execution_count": 178,
   "id": "da108f25",
   "metadata": {},
   "outputs": [
    {
     "data": {
      "image/png": "[encoded data removed]",
      "text/plain": [
       "<Figure size 432x288 with 1 Axes>"
      ]
     },
     "metadata": {
      "needs_background": "light"
     },
     "output_type": "display_data"
    },
    {
     "data": {
      "image/png": "[encoded data removed]",
      "text/plain": [
       "<Figure size 432x288 with 1 Axes>"
      ]
     },
     "metadata": {
      "needs_background": "light"
     },
     "output_type": "display_data"
    },
    {
     "data": {
      "image/png": "[encoded data removed]",
      "text/plain": [
       "<Figure size 432x288 with 1 Axes>"
      ]
     },
     "metadata": {
      "needs_background": "light"
     },
     "output_type": "display_data"
    },
    {
     "data": {
      "image/png": "[encoded data removed]",
      "text/plain": [
       "<Figure size 432x288 with 1 Axes>"
      ]
     },
     "metadata": {
      "needs_background": "light"
     },
     "output_type": "display_data"
    },
    {
     "data": {
      "image/png": "[encoded data removed]",
      "text/plain": [
       "<Figure size 432x288 with 1 Axes>"
      ]
     },
     "metadata": {
      "needs_background": "light"
     },
     "output_type": "display_data"
    },
    {
     "data": {
      "image/png": "[encoded data removed]",
      "text/plain": [
       "<Figure size 432x288 with 1 Axes>"
      ]
     },
     "metadata": {
      "needs_background": "light"
     },
     "output_type": "display_data"
    },
    {
     "data": {
      "image/png": "[encoded data removed]",
      "text/plain": [
       "<Figure size 432x288 with 1 Axes>"
      ]
     },
     "metadata": {
      "needs_background": "light"
     },
     "output_type": "display_data"
    }
   ],
   "source": [
    "for meso in mesos:    \n",
    "    labels = [f'e = {epsilon}' for epsilon in list_epsilon]\n",
    "    consulta = [h_x[meso] for i in range(4)]\n",
    "\n",
    "    x = np.arange(len(labels))\n",
    "    width = 0.3\n",
    "    fig, ax = matplot.subplots()\n",
    "    plot1 = ax.bar(x-width/2, consulta, width, label='Original', color='red')\n",
    "    plot2 = ax.bar(x+width/2, mesos[meso], width, label='Laplace', color='green')\n",
    "\n",
    "    ax.set_xticks(x, labels)\n",
    "    ax.legend(loc=4)\n",
    "    matplot.title(f'Total Exames {meso}')\n",
    "    matplot.show()"
   ]
  },
  {
   "cell_type": "markdown",
   "id": "e238686e",
   "metadata": {},
   "source": [
    "<h3>1.2 Mecanismo Exponencial</h3>"
   ]
  },
  {
   "cell_type": "code",
   "execution_count": 180,
   "id": "3e443ab1",
   "metadata": {},
   "outputs": [],
   "source": [
    "def score(atributo, opcao):\n",
    "    a = atributo.value_counts()[opcao];\n",
    "    b = atributo.shape[0]\n",
    "    return a/b\n",
    "\n",
    "def exponencial(df, R, score, sensibilidade, epsilon):\n",
    "    scores = [score(df, opcao) for opcao in R]\n",
    "    \n",
    "    probabilidades = [np.exp(epsilon * score / (2 * sensibilidade)) for score in scores]\n",
    "    \n",
    "    probabilidades = probabilidades / np.linalg.norm(probabilidades, ord=1)\n",
    "\n",
    "    return np.random.choice(R, 1, p=probabilidades)[0]"
   ]
  },
  {
   "cell_type": "markdown",
   "id": "26d76d1d",
   "metadata": {},
   "source": [
    "<h4>Q1: Qual o municı́pio (atributo municipioCaso) com o menor número de casos positivos (atributo  <i>resultadoFinalExame</i>) de COVID-19</h4>"
   ]
  },
  {
   "cell_type": "code",
   "execution_count": 181,
   "id": "c9bc0027",
   "metadata": {},
   "outputs": [],
   "source": [
    "dadosMunicipio = datasDeNascimento.loc[dataset['ResultadoExame'] == 'Positivo']"
   ]
  },
  {
   "cell_type": "code",
   "execution_count": 182,
   "id": "36d3fad4",
   "metadata": {},
   "outputs": [],
   "source": [
    "municipios = dadosMunicipio['Municipio'].unique()\n",
    "sensibility = 1\n",
    "list_epsilon = [0.1, 0.5, 1.0, 10.0]"
   ]
  },
  {
   "cell_type": "code",
   "execution_count": 183,
   "id": "ba7205bb",
   "metadata": {},
   "outputs": [],
   "source": [
    "results = dict()\n",
    "for epsilon in list_epsilon:\n",
    "    reps = []\n",
    "    for i in range(10):\n",
    "        rep = exponencial(dadosMunicipio['Municipio'], municipios, score, sensibility, epsilon)\n",
    "        reps.append(rep)\n",
    "        \n",
    "    results.setdefault(f'e = {epsilon}', reps)"
   ]
  },
  {
   "cell_type": "code",
   "execution_count": 184,
   "id": "f0a69743",
   "metadata": {},
   "outputs": [],
   "source": [
    "dados3 = pd.DataFrame(results)"
   ]
  },
  {
   "cell_type": "code",
   "execution_count": 186,
   "id": "fd8f9fdc",
   "metadata": {},
   "outputs": [
    {
     "data": {
      "text/plain": [
       "Counter({'JARDIM': 1,\n",
       "         'GUAIÚBA': 1,\n",
       "         'NOVA RUSSAS': 1,\n",
       "         'TARRAFAS': 1,\n",
       "         'MILHA': 1,\n",
       "         'MARANGUAPE': 1,\n",
       "         'QUIXERE': 1,\n",
       "         'BAIXIO': 1,\n",
       "         'APUIARES': 1,\n",
       "         'BOA VIAGEM': 1})"
      ]
     },
     "execution_count": 186,
     "metadata": {},
     "output_type": "execute_result"
    }
   ],
   "source": [
    "Counter(dados3['e = 0.1'])"
   ]
  },
  {
   "cell_type": "code",
   "execution_count": 189,
   "id": "6a26041d",
   "metadata": {},
   "outputs": [
    {
     "data": {
      "text/plain": [
       "(array([1., 1., 1., 1., 1., 1., 1., 1., 1., 1.]),\n",
       " array([0. , 0.9, 1.8, 2.7, 3.6, 4.5, 5.4, 6.3, 7.2, 8.1, 9. ]),\n",
       " <BarContainer object of 10 artists>)"
      ]
     },
     "execution_count": 189,
     "metadata": {},
     "output_type": "execute_result"
    },
    {
     "data": {
      "image/png": "[encoded data removed]",
      "text/plain": [
       "<Figure size 864x576 with 1 Axes>"
      ]
     },
     "metadata": {
      "needs_background": "light"
     },
     "output_type": "display_data"
    }
   ],
   "source": [
    "matplot.figure(figsize=(12, 8))\n",
    "matplot.hist(Counter(dados3['e = 0.1']))"
   ]
  },
  {
   "cell_type": "code",
   "execution_count": null,
   "id": "d22b23ad",
   "metadata": {},
   "outputs": [],
   "source": []
  }
 ],
 "metadata": {
  "kernelspec": {
   "display_name": "Python 3 (ipykernel)",
   "language": "python",
   "name": "python3"
  },
  "language_info": {
   "codemirror_mode": {
    "name": "ipython",
    "version": 3
   },
   "file_extension": ".py",
   "mimetype": "text/x-python",
   "name": "python",
   "nbconvert_exporter": "python",
   "pygments_lexer": "ipython3",
   "version": "3.8.10"
  }
 },
 "nbformat": 4,
 "nbformat_minor": 5
}
